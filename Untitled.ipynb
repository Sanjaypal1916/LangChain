{
 "cells": [
  {
   "cell_type": "code",
   "execution_count": 1,
   "id": "64c0e59e-a19e-4a31-b773-f76ac45b3b66",
   "metadata": {},
   "outputs": [],
   "source": [
    "from secret_keys import hugging_face\n",
    "import os \n",
    "os.environ[\"Huggingface_API\"] = hugging_face\n"
   ]
  },
  {
   "cell_type": "code",
   "execution_count": 2,
   "id": "517fcd1a-c7a1-4a19-b736-da0b12169abb",
   "metadata": {},
   "outputs": [],
   "source": [
    "from langchain_huggingface import HuggingFaceEndpoint"
   ]
  },
  {
   "cell_type": "code",
   "execution_count": null,
   "id": "cea2bd98-6d67-46c9-bce3-d49231f5a25f",
   "metadata": {},
   "outputs": [
    {
     "name": "stderr",
     "output_type": "stream",
     "text": [
      "WARNING! max_length is not default parameter.\n",
      "                    max_length was transferred to model_kwargs.\n",
      "                    Please make sure that max_length is what you intended.\n",
      "C:\\Users\\sanjay\\anaconda3\\envs\\py310\\lib\\site-packages\\huggingface_hub\\utils\\_deprecation.py:131: FutureWarning: 'post' (from 'huggingface_hub.inference._client') is deprecated and will be removed from version '0.31.0'. Making direct POST requests to the inference server is not supported anymore. Please use task methods instead (e.g. `InferenceClient.chat_completion`). If your use case is not supported, please open an issue in https://github.com/huggingface/huggingface_hub.\n",
      "  warnings.warn(warning_message, FutureWarning)\n"
     ]
    },
    {
     "name": "stdout",
     "output_type": "stream",
     "text": [
      " to the technology.\n",
      "\n",
      "1. Cryptolith: A name that combines the words \"cryptocurrency\" and \"lithos\" (Greek for stone), suggesting a solid foundation in the world of blockchain and NFTs.\n",
      "\n",
      "2. NFTArchetype: This name emphasizes the uniqueness and authenticity of each NFT, while also referencing the historical and cultural significance of archetypes.\n",
      "\n",
      "3. BlockchainPioneer: This name suggests that your website is a trailblazer in the world of blockchain and NFTs.\n",
      "\n",
      "4. TokenVault: This name implies a secure storage solution for cryptocurrencies and NFTs.\n",
      "\n",
      "5. DigitalDynasty: This name suggests a powerful, lasting presence in the digital world of blockchain and NFTs.\n",
      "\n",
      "6. NFTNexus: This name suggests a connection point or intersection for all things related to NFTs.\n",
      "\n",
      "7. BlockchainBridge: This name suggests a connection between the traditional and digital worlds, facilitated by blockchain technology.\n",
      "\n",
      "8. CryptoCanvas: This name suggests a platform for creating and showcasing digital art (NFTs) in a similar way to a traditional art gallery.\n",
      "\n",
      "9. NFTQuorum: This name suggests a community or gathering place for those interested in NFTs.\n",
      "\n",
      "10. BlockchainBazaar: This name suggests a marketplace for buying, selling, and trading NFTs.\n",
      "\n",
      "11. DigitalDomain: This name suggests a domain or realm in the digital world, specifically focused on blockchain and NFTs.\n",
      "\n",
      "12. NFTNexusX: This name adds a touch of futurism and exclusivity to the concept of a connection point for all things NFT.\n",
      "\n",
      "13. Cryptosphere: This name suggests a vast, interconnected sphere encompassing the world of cryptocurrencies and NFTs.\n",
      "\n",
      "14. NFTNexusOne: This name suggests that your website is the first and best place to go for all things NFT.\n",
      "\n",
      "15. BlockchainBazaarX: This name adds a touch of exclusivity and innovation to the concept of a marketplace for buying, selling, and trading NFTs.\n"
     ]
    }
   ],
   "source": [
    "from langchain.llms import HuggingFaceEndpoint\n",
    "\n",
    "# Paste your actual token here\n",
    "HUGGINGFACEHUB_API_TOKEN = \"your_hf_token_here\"\n",
    "\n",
    "llm = HuggingFaceEndpoint(\n",
    "    task=\"text-generation\",\n",
    "    repo_id=\"mistralai/Mistral-7B-Instruct-v0.3\",\n",
    "    temperature=0.7,\n",
    "    max_length=128,\n",
    "    huggingfacehub_api_token=hugging_face\n",
    ")\n",
    "\n",
    "response = llm(\"Suggest some names for my website related to blockchain and NFTs.it should authentic and should be related\")\n",
    "print(response)"
   ]
  },
  {
   "cell_type": "code",
   "execution_count": null,
   "id": "f1900def-fdfc-4f13-9716-c3818cfc416c",
   "metadata": {},
   "outputs": [
    {
     "name": "stderr",
     "output_type": "stream",
     "text": [
      "WARNING! trust_remote_code is not default parameter.\n",
      "                    trust_remote_code was transferred to model_kwargs.\n",
      "                    Please make sure that trust_remote_code is what you intended.\n",
      "C:\\Users\\sanjay\\anaconda3\\envs\\py310\\lib\\site-packages\\huggingface_hub\\utils\\_deprecation.py:131: FutureWarning: 'post' (from 'huggingface_hub.inference._client') is deprecated and will be removed from version '0.31.0'. Making direct POST requests to the inference server is not supported anymore. Please use task methods instead (e.g. `InferenceClient.chat_completion`). If your use case is not supported, please open an issue in https://github.com/huggingface/huggingface_hub.\n",
      "  warnings.warn(warning_message, FutureWarning)\n"
     ]
    },
    {
     "name": "stdout",
     "output_type": "stream",
     "text": [
      " to the current trends\n",
      "1. Bitcoin\n",
      "2. Ethereum\n",
      "3. NFT\n",
      "4. Blockchain\n",
      "5. Cryptocurrency\n",
      "6. ICO\n",
      "7. Crypto\n",
      "8. Smart Contracts\n",
      "9. DeFi\n",
      "10. NFT Art\n",
      "11. NFT Collectibles\n",
      "12. NFT Gaming\n"
     ]
    }
   ],
   "source": [
    "TUI = HuggingFaceEndpoint(\n",
    "    task=\"text-generation\",\n",
    "    repo_id=\"tiiuae/falcon-7b-instruct\",\n",
    "    # max_new_tokens= 100,  # must be ≤ 250\n",
    "    temperature= 0.7,\n",
    "    trust_remote_code= True,\n",
    "    huggingfacehub_api_token=hugging_face\n",
    ")\n",
    "\n",
    "response = TUI(\"Suggest only 10 names for my website related to blockchain and NFTs.it should authentic and should be related\")\n",
    "print(response)"
   ]
  },
  {
   "cell_type": "code",
   "execution_count": 31,
   "id": "92ac6c5c-67f1-4469-92e1-04e1b3895560",
   "metadata": {},
   "outputs": [
    {
     "name": "stderr",
     "output_type": "stream",
     "text": [
      "C:\\Users\\sanjay\\anaconda3\\envs\\py310\\lib\\site-packages\\huggingface_hub\\utils\\_deprecation.py:131: FutureWarning: 'post' (from 'huggingface_hub.inference._client') is deprecated and will be removed from version '0.31.0'. Making direct POST requests to the inference server is not supported anymore. Please use task methods instead (e.g. `InferenceClient.chat_completion`). If your use case is not supported, please open an issue in https://github.com/huggingface/huggingface_hub.\n",
      "  warnings.warn(warning_message, FutureWarning)\n"
     ]
    },
    {
     "data": {
      "text/plain": [
       "' on\\n\\nThe model I am using is trained on data from 1950 to 2019. It is a time series model for forecasting, and it is trained on historical data of various economic indicators such as GDP, inflation, unemployment rate, etc. The model is designed to predict these indicators for future years, and it is updated regularly with new data.'"
      ]
     },
     "execution_count": 31,
     "metadata": {},
     "output_type": "execute_result"
    }
   ],
   "source": [
    "llm.invoke(\"uptill which year your model is trained\")\n"
   ]
  },
  {
   "cell_type": "code",
   "execution_count": null,
   "id": "e36652a3-0d3b-4bc6-aa67-a84d39a91538",
   "metadata": {},
   "outputs": [],
   "source": []
  },
  {
   "cell_type": "code",
   "execution_count": null,
   "id": "074464a3-2d31-4dde-80b3-41934da2de21",
   "metadata": {},
   "outputs": [],
   "source": []
  }
 ],
 "metadata": {
  "kernelspec": {
   "display_name": "Python 3 (ipykernel)",
   "language": "python",
   "name": "python3"
  },
  "language_info": {
   "codemirror_mode": {
    "name": "ipython",
    "version": 3
   },
   "file_extension": ".py",
   "mimetype": "text/x-python",
   "name": "python",
   "nbconvert_exporter": "python",
   "pygments_lexer": "ipython3",
   "version": "3.10.16"
  }
 },
 "nbformat": 4,
 "nbformat_minor": 5
}
