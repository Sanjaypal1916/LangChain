{
 "cells": [
  {
   "cell_type": "code",
   "execution_count": 1,
   "id": "97ccc1f2",
   "metadata": {},
   "outputs": [
    {
     "name": "stdout",
     "output_type": "stream",
     "text": [
      "hello\n"
     ]
    }
   ],
   "source": [
    "print(\"hello\")"
   ]
  },
  {
   "cell_type": "code",
   "execution_count": 2,
   "id": "3836185c",
   "metadata": {},
   "outputs": [],
   "source": [
    "from langchain_community.document_loaders  import PyPDFLoader"
   ]
  },
  {
   "cell_type": "code",
   "execution_count": 4,
   "id": "794e9067",
   "metadata": {},
   "outputs": [
    {
     "data": {
      "text/plain": [
       "[Document(metadata={'producer': 'Microsoft® Word 2021', 'creator': 'Microsoft® Word 2021', 'creationdate': '2024-09-03T19:03:45+05:30', 'author': 'Sanjay Pal', 'moddate': '2024-09-03T19:03:45+05:30', 'source': 'tabular.pdf', 'total_pages': 2, 'page': 0, 'page_label': '1'}, page_content='AMITARA OVERSEAS PVT. LTD.   \\n  \\nNAYKA (store) 01/08/2024 to 31/08/2024 (Vehicle no-GJ-27-V-2681) \\nSr.no. Date  Gate p. no. From  To  Material  Sign.  Fare \\nOUTWARD \\n \\n1 6-8-24 STGP-2425-54 Nayka   Jindal  Reed-2   \\n2 7-8-24 RGP-2425-145 Nayka  Lathia industrial (Naroda ) Rubber roll -3   \\n3 9-8-24 STGP-2425-57,58 \\nRGP-2425-148,22 \\nNayka  Lenze mechanics (shyamal) \\nJindal  \\nDrive -1 \\nReed -7 motor -1 \\n  \\n4 10-8-24 RGP-2425-24 Nayka  Perfect reed (isanpur) Reed -5   \\n5 11-8-24 RGP-2425-150 Nayka  Lathia industrial (Naroda ) Rubber -1   \\n6 12-8-24 Gate in- 8236,8235 Krishna indust. \\n(nanachiloda) \\nNayka  Hand pallet truck -3   \\n7 12-8-24 RGP-2425-151 Nayka  Jindal  Motor -5   \\n8 13-8-24 NRGP-2425-2 Nayka  Rameshth eleter \\n (v-trans) gobalej \\nPlastic cone -21900   \\n9 14-8-24 Gate in -8340 Mayank \\nenterprise \\n(Naroda ) \\nNayka  Warping beam -1   \\n10 15-8-24 STGP-2425-60 \\nRGP-2425-153 \\nMOGP-2425-4 \\nNayka  Jindal  \\nMahavir electric \\n(shahwadi) \\nAtlas (narol) \\nHeaid wire -15000 \\nStarter-1 \\nBox-1 \\n  \\n11 15-8-24 Without gate pass Jindal mangate  Nayka  Mix material    \\n12 16-8-24 CHSGP-2425-38 \\nSTGP-2425-61 \\nNayka  Jindal  Chemical -2000kg \\nLPG cylinder -1 \\n  \\n13 20-8-24 Without gate pass  Jindal mangate Nayka  Mix material   \\n14 20-8-24 RGP-2425-156 Nayka  Lathia industrial (naroda) Rubber roll-2   \\n15 21-8-24 RGP-2425-10,157 Nayka  Sanvik entr (vatava ) \\nC D techs engin. (vatava) \\nPatta-104 \\nBrack -1  wheel-1 \\n  \\n16 21-8-24 Gate in -8830 Lathia industrial \\n(Naroda ) \\nNayka  Rubber roll-1   \\n17 22-8-24 Gate in -18720 C L Aluminium \\n(jodhpur) \\nNayka  Aluminium -100kg'),\n",
       " Document(metadata={'producer': 'Microsoft® Word 2021', 'creator': 'Microsoft® Word 2021', 'creationdate': '2024-09-03T19:03:45+05:30', 'author': 'Sanjay Pal', 'moddate': '2024-09-03T19:03:45+05:30', 'source': 'tabular.pdf', 'total_pages': 2, 'page': 1, 'page_label': '2'}, page_content='18 24-8-24 Without gate pass  Jindal mangate \\nBareja courier  \\nNayka  Mix material \\nAll courier  \\n  \\n19 24-8-24 Gate in -9015,9017 Girish textile \\n(gobalej) \\nNayka  Box -8   \\n20 24-8-24 Gate in -9154 Riya tex (CTM) Nayka  Con rod -43   \\n21 25-8-24 RGP-2425-17 Nayka  Sanvik (vatva) Conrod -43   \\n22 26-8-24  RGP-2425-16,25 Nayka  Jindal  \\nC.D. techs eng \\nRubber roll-1 \\nBracket -1 \\nWheel-1 \\n  \\n23 29-8-24 Gate in -535 mahalaxmi \\ntextiles(gobalej ) \\nVRL \\nNayka  Fely cloth -1   \\n24 30-8-24 RGP-2425-31 Nayka  N A saiyad (kalupur ) Machinery pass -2')]"
      ]
     },
     "execution_count": 4,
     "metadata": {},
     "output_type": "execute_result"
    }
   ],
   "source": [
    "loader = PyPDFLoader(\"tabular.pdf\")\n",
    "table = loader.load()\n",
    "table"
   ]
  },
  {
   "cell_type": "code",
   "execution_count": null,
   "id": "17060f1b",
   "metadata": {},
   "outputs": [],
   "source": []
  },
  {
   "cell_type": "code",
   "execution_count": 12,
   "id": "2fd008f1",
   "metadata": {},
   "outputs": [
    {
     "data": {
      "text/plain": [
       "[Document(metadata={'producer': 'Microsoft® Word 2021', 'creator': 'Microsoft® Word 2021', 'creationdate': '2024-09-03T19:03:45+05:30', 'author': 'Sanjay Pal', 'moddate': '2024-09-03T19:03:45+05:30', 'source': 'tabular.pdf', 'total_pages': 2, 'page': 0, 'page_label': '1'}, page_content='AMITARA OVERSEAS PVT. LTD.   \\n  \\nNAYKA (store) 01/08/2024 to 31/08/2024 (Vehicle no-GJ-27-V-2681) \\nSr.no. Date  Gate p. no. From  To  Material  Sign.  Fare \\nOUTWARD'),\n",
       " Document(metadata={'producer': 'Microsoft® Word 2021', 'creator': 'Microsoft® Word 2021', 'creationdate': '2024-09-03T19:03:45+05:30', 'author': 'Sanjay Pal', 'moddate': '2024-09-03T19:03:45+05:30', 'source': 'tabular.pdf', 'total_pages': 2, 'page': 0, 'page_label': '1'}, page_content='OUTWARD \\n \\n1 6-8-24 STGP-2425-54 Nayka   Jindal  Reed-2   \\n2 7-8-24 RGP-2425-145 Nayka  Lathia industrial (Naroda ) Rubber roll -3   \\n3 9-8-24 STGP-2425-57,58 \\nRGP-2425-148,22'),\n",
       " Document(metadata={'producer': 'Microsoft® Word 2021', 'creator': 'Microsoft® Word 2021', 'creationdate': '2024-09-03T19:03:45+05:30', 'author': 'Sanjay Pal', 'moddate': '2024-09-03T19:03:45+05:30', 'source': 'tabular.pdf', 'total_pages': 2, 'page': 0, 'page_label': '1'}, page_content='3 9-8-24 STGP-2425-57,58 \\nRGP-2425-148,22 \\nNayka  Lenze mechanics (shyamal) \\nJindal  \\nDrive -1 \\nReed -7 motor -1 \\n  \\n4 10-8-24 RGP-2425-24 Nayka  Perfect reed (isanpur) Reed -5'),\n",
       " Document(metadata={'producer': 'Microsoft® Word 2021', 'creator': 'Microsoft® Word 2021', 'creationdate': '2024-09-03T19:03:45+05:30', 'author': 'Sanjay Pal', 'moddate': '2024-09-03T19:03:45+05:30', 'source': 'tabular.pdf', 'total_pages': 2, 'page': 0, 'page_label': '1'}, page_content='5 11-8-24 RGP-2425-150 Nayka  Lathia industrial (Naroda ) Rubber -1   \\n6 12-8-24 Gate in- 8236,8235 Krishna indust. \\n(nanachiloda) \\nNayka  Hand pallet truck -3'),\n",
       " Document(metadata={'producer': 'Microsoft® Word 2021', 'creator': 'Microsoft® Word 2021', 'creationdate': '2024-09-03T19:03:45+05:30', 'author': 'Sanjay Pal', 'moddate': '2024-09-03T19:03:45+05:30', 'source': 'tabular.pdf', 'total_pages': 2, 'page': 0, 'page_label': '1'}, page_content='(nanachiloda) \\nNayka  Hand pallet truck -3   \\n7 12-8-24 RGP-2425-151 Nayka  Jindal  Motor -5   \\n8 13-8-24 NRGP-2425-2 Nayka  Rameshth eleter \\n (v-trans) gobalej \\nPlastic cone -21900'),\n",
       " Document(metadata={'producer': 'Microsoft® Word 2021', 'creator': 'Microsoft® Word 2021', 'creationdate': '2024-09-03T19:03:45+05:30', 'author': 'Sanjay Pal', 'moddate': '2024-09-03T19:03:45+05:30', 'source': 'tabular.pdf', 'total_pages': 2, 'page': 0, 'page_label': '1'}, page_content='(v-trans) gobalej \\nPlastic cone -21900   \\n9 14-8-24 Gate in -8340 Mayank \\nenterprise \\n(Naroda ) \\nNayka  Warping beam -1   \\n10 15-8-24 STGP-2425-60 \\nRGP-2425-153 \\nMOGP-2425-4 \\nNayka  Jindal'),\n",
       " Document(metadata={'producer': 'Microsoft® Word 2021', 'creator': 'Microsoft® Word 2021', 'creationdate': '2024-09-03T19:03:45+05:30', 'author': 'Sanjay Pal', 'moddate': '2024-09-03T19:03:45+05:30', 'source': 'tabular.pdf', 'total_pages': 2, 'page': 0, 'page_label': '1'}, page_content='RGP-2425-153 \\nMOGP-2425-4 \\nNayka  Jindal  \\nMahavir electric \\n(shahwadi) \\nAtlas (narol) \\nHeaid wire -15000 \\nStarter-1 \\nBox-1 \\n  \\n11 15-8-24 Without gate pass Jindal mangate  Nayka  Mix material'),\n",
       " Document(metadata={'producer': 'Microsoft® Word 2021', 'creator': 'Microsoft® Word 2021', 'creationdate': '2024-09-03T19:03:45+05:30', 'author': 'Sanjay Pal', 'moddate': '2024-09-03T19:03:45+05:30', 'source': 'tabular.pdf', 'total_pages': 2, 'page': 0, 'page_label': '1'}, page_content='12 16-8-24 CHSGP-2425-38 \\nSTGP-2425-61 \\nNayka  Jindal  Chemical -2000kg \\nLPG cylinder -1 \\n  \\n13 20-8-24 Without gate pass  Jindal mangate Nayka  Mix material'),\n",
       " Document(metadata={'producer': 'Microsoft® Word 2021', 'creator': 'Microsoft® Word 2021', 'creationdate': '2024-09-03T19:03:45+05:30', 'author': 'Sanjay Pal', 'moddate': '2024-09-03T19:03:45+05:30', 'source': 'tabular.pdf', 'total_pages': 2, 'page': 0, 'page_label': '1'}, page_content='14 20-8-24 RGP-2425-156 Nayka  Lathia industrial (naroda) Rubber roll-2   \\n15 21-8-24 RGP-2425-10,157 Nayka  Sanvik entr (vatava ) \\nC D techs engin. (vatava) \\nPatta-104 \\nBrack -1  wheel-1'),\n",
       " Document(metadata={'producer': 'Microsoft® Word 2021', 'creator': 'Microsoft® Word 2021', 'creationdate': '2024-09-03T19:03:45+05:30', 'author': 'Sanjay Pal', 'moddate': '2024-09-03T19:03:45+05:30', 'source': 'tabular.pdf', 'total_pages': 2, 'page': 0, 'page_label': '1'}, page_content='Patta-104 \\nBrack -1  wheel-1 \\n  \\n16 21-8-24 Gate in -8830 Lathia industrial \\n(Naroda ) \\nNayka  Rubber roll-1   \\n17 22-8-24 Gate in -18720 C L Aluminium \\n(jodhpur) \\nNayka  Aluminium -100kg'),\n",
       " Document(metadata={'producer': 'Microsoft® Word 2021', 'creator': 'Microsoft® Word 2021', 'creationdate': '2024-09-03T19:03:45+05:30', 'author': 'Sanjay Pal', 'moddate': '2024-09-03T19:03:45+05:30', 'source': 'tabular.pdf', 'total_pages': 2, 'page': 1, 'page_label': '2'}, page_content='18 24-8-24 Without gate pass  Jindal mangate \\nBareja courier  \\nNayka  Mix material \\nAll courier  \\n  \\n19 24-8-24 Gate in -9015,9017 Girish textile \\n(gobalej) \\nNayka  Box -8'),\n",
       " Document(metadata={'producer': 'Microsoft® Word 2021', 'creator': 'Microsoft® Word 2021', 'creationdate': '2024-09-03T19:03:45+05:30', 'author': 'Sanjay Pal', 'moddate': '2024-09-03T19:03:45+05:30', 'source': 'tabular.pdf', 'total_pages': 2, 'page': 1, 'page_label': '2'}, page_content='(gobalej) \\nNayka  Box -8   \\n20 24-8-24 Gate in -9154 Riya tex (CTM) Nayka  Con rod -43   \\n21 25-8-24 RGP-2425-17 Nayka  Sanvik (vatva) Conrod -43   \\n22 26-8-24  RGP-2425-16,25 Nayka  Jindal'),\n",
       " Document(metadata={'producer': 'Microsoft® Word 2021', 'creator': 'Microsoft® Word 2021', 'creationdate': '2024-09-03T19:03:45+05:30', 'author': 'Sanjay Pal', 'moddate': '2024-09-03T19:03:45+05:30', 'source': 'tabular.pdf', 'total_pages': 2, 'page': 1, 'page_label': '2'}, page_content='22 26-8-24  RGP-2425-16,25 Nayka  Jindal  \\nC.D. techs eng \\nRubber roll-1 \\nBracket -1 \\nWheel-1 \\n  \\n23 29-8-24 Gate in -535 mahalaxmi \\ntextiles(gobalej ) \\nVRL \\nNayka  Fely cloth -1'),\n",
       " Document(metadata={'producer': 'Microsoft® Word 2021', 'creator': 'Microsoft® Word 2021', 'creationdate': '2024-09-03T19:03:45+05:30', 'author': 'Sanjay Pal', 'moddate': '2024-09-03T19:03:45+05:30', 'source': 'tabular.pdf', 'total_pages': 2, 'page': 1, 'page_label': '2'}, page_content='textiles(gobalej ) \\nVRL \\nNayka  Fely cloth -1   \\n24 30-8-24 RGP-2425-31 Nayka  N A saiyad (kalupur ) Machinery pass -2')]"
      ]
     },
     "execution_count": 12,
     "metadata": {},
     "output_type": "execute_result"
    }
   ],
   "source": [
    "from langchain.text_splitter import RecursiveCharacterTextSplitter\n",
    "text_splitter = RecursiveCharacterTextSplitter(chunk_size=200, chunk_overlap=50)\n",
    "txt = text_splitter.split_documents(table)\n",
    "txt"
   ]
  },
  {
   "cell_type": "code",
   "execution_count": 17,
   "id": "b240b194",
   "metadata": {},
   "outputs": [],
   "source": [
    "from langchain_community.embeddings import OllamaEmbeddings\n",
    "from langchain.vectorstores import Chroma\n",
    "from langchain.vectorstores import LanceDB\n",
    "from langchain.vectorstores import FAISS\n",
    "\n",
    "\n",
    "embedding = OllamaEmbeddings(model=\"llama2\")\n",
    "lance = LanceDB.from_documents(txt, embedding)\n",
    "faiss = FAISS.from_documents(txt, embedding)"
   ]
  },
  {
   "cell_type": "code",
   "execution_count": 18,
   "id": "a100e9f4",
   "metadata": {},
   "outputs": [
    {
     "data": {
      "text/plain": [
       "[Document(id='949e68a2-76e4-468d-98e2-630c5427f52b', metadata={'producer': 'Microsoft® Word 2021', 'creator': 'Microsoft® Word 2021', 'creationdate': '2024-09-03T19:03:45+05:30', 'author': 'Sanjay Pal', 'moddate': '2024-09-03T19:03:45+05:30', 'source': 'tabular.pdf', 'total_pages': 2, 'page': 0, 'page_label': '1'}, page_content='RGP-2425-153 \\nMOGP-2425-4 \\nNayka  Jindal  \\nMahavir electric \\n(shahwadi) \\nAtlas (narol) \\nHeaid wire -15000 \\nStarter-1 \\nBox-1 \\n  \\n11 15-8-24 Without gate pass Jindal mangate  Nayka  Mix material'),\n",
       " Document(id='fe31f7cc-b8dd-4f30-9b9b-bd7a1534e7c0', metadata={'producer': 'Microsoft® Word 2021', 'creator': 'Microsoft® Word 2021', 'creationdate': '2024-09-03T19:03:45+05:30', 'author': 'Sanjay Pal', 'moddate': '2024-09-03T19:03:45+05:30', 'source': 'tabular.pdf', 'total_pages': 2, 'page': 0, 'page_label': '1'}, page_content='(nanachiloda) \\nNayka  Hand pallet truck -3   \\n7 12-8-24 RGP-2425-151 Nayka  Jindal  Motor -5   \\n8 13-8-24 NRGP-2425-2 Nayka  Rameshth eleter \\n (v-trans) gobalej \\nPlastic cone -21900'),\n",
       " Document(id='9b75bc87-a38e-4620-89ec-6d79e32edb8e', metadata={'producer': 'Microsoft® Word 2021', 'creator': 'Microsoft® Word 2021', 'creationdate': '2024-09-03T19:03:45+05:30', 'author': 'Sanjay Pal', 'moddate': '2024-09-03T19:03:45+05:30', 'source': 'tabular.pdf', 'total_pages': 2, 'page': 1, 'page_label': '2'}, page_content='textiles(gobalej ) \\nVRL \\nNayka  Fely cloth -1   \\n24 30-8-24 RGP-2425-31 Nayka  N A saiyad (kalupur ) Machinery pass -2'),\n",
       " Document(id='f376faac-a261-48a9-bbf1-796d90f2e3e0', metadata={'producer': 'Microsoft® Word 2021', 'creator': 'Microsoft® Word 2021', 'creationdate': '2024-09-03T19:03:45+05:30', 'author': 'Sanjay Pal', 'moddate': '2024-09-03T19:03:45+05:30', 'source': 'tabular.pdf', 'total_pages': 2, 'page': 0, 'page_label': '1'}, page_content='12 16-8-24 CHSGP-2425-38 \\nSTGP-2425-61 \\nNayka  Jindal  Chemical -2000kg \\nLPG cylinder -1 \\n  \\n13 20-8-24 Without gate pass  Jindal mangate Nayka  Mix material')]"
      ]
     },
     "execution_count": 18,
     "metadata": {},
     "output_type": "execute_result"
    }
   ],
   "source": [
    "faiss.similarity_search(\"nayka\")"
   ]
  },
  {
   "cell_type": "code",
   "execution_count": null,
   "id": "14e315fc",
   "metadata": {},
   "outputs": [],
   "source": []
  }
 ],
 "metadata": {
  "kernelspec": {
   "display_name": "venv",
   "language": "python",
   "name": "python3"
  },
  "language_info": {
   "codemirror_mode": {
    "name": "ipython",
    "version": 3
   },
   "file_extension": ".py",
   "mimetype": "text/x-python",
   "name": "python",
   "nbconvert_exporter": "python",
   "pygments_lexer": "ipython3",
   "version": "3.12.4"
  }
 },
 "nbformat": 4,
 "nbformat_minor": 5
}
